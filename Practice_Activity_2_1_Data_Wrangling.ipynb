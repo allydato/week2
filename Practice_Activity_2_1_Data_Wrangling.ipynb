{
  "cells": [
    {
      "cell_type": "raw",
      "metadata": {
        "vscode": {
          "languageId": "raw"
        }
      },
      "source": [
        "---\n",
        "title: 'Practice Activity 2.1: Data Wrangling'\n",
        "author: 'Alissa Chong'\n",
        "format:\n",
        "  html:\n",
        "    embed-resources: true\n",
        "---"
      ]
    },
    {
      "cell_type": "markdown",
      "metadata": {
        "id": "QWpPySbzYEIV"
      },
      "source": [
        "# Titanic Wrangling\n",
        "\n",
        "In this practice activity you'll continue to work with the titanic dataset in ways that flex what you've learned about both data wrangling and data visualization."
      ]
    },
    {
      "cell_type": "code",
      "execution_count": 1,
      "metadata": {
        "id": "Uf8t_dP7caPK"
      },
      "outputs": [],
      "source": [
        "import numpy as np\n",
        "import pandas as pd\n",
        "from plotnine import *"
      ]
    },
    {
      "cell_type": "code",
      "execution_count": 2,
      "metadata": {
        "id": "Nr6w8bVCf_NM"
      },
      "outputs": [],
      "source": [
        "# Import the titanic dataset here\n",
        "data_dir = \"https://dlsun.github.io/pods/data/\"\n",
        "df_titanic = pd.read_csv(data_dir + \"titanic.csv\")"
      ]
    },
    {
      "cell_type": "markdown",
      "metadata": {
        "id": "9UgZD6VFYa96"
      },
      "source": [
        "## 1. Filter the data to include passengers only. Calculate the joint distribution (cross-tab) between a passenger's class and where they embarked."
      ]
    },
    {
      "cell_type": "code",
      "execution_count": 3,
      "metadata": {
        "colab": {
          "base_uri": "https://localhost:8080/",
          "height": 206
        },
        "id": "TBthOzDLgBif",
        "outputId": "952b7138-1cfd-4ddb-d7d3-bda3ccaca8fb"
      },
      "outputs": [
        {
          "data": {
            "text/html": [
              "<div>\n",
              "<style scoped>\n",
              "    .dataframe tbody tr th:only-of-type {\n",
              "        vertical-align: middle;\n",
              "    }\n",
              "\n",
              "    .dataframe tbody tr th {\n",
              "        vertical-align: top;\n",
              "    }\n",
              "\n",
              "    .dataframe thead th {\n",
              "        text-align: right;\n",
              "    }\n",
              "</style>\n",
              "<table border=\"1\" class=\"dataframe\">\n",
              "  <thead>\n",
              "    <tr style=\"text-align: right;\">\n",
              "      <th>embarked</th>\n",
              "      <th>B</th>\n",
              "      <th>C</th>\n",
              "      <th>Q</th>\n",
              "      <th>S</th>\n",
              "      <th>All</th>\n",
              "    </tr>\n",
              "    <tr>\n",
              "      <th>class</th>\n",
              "      <th></th>\n",
              "      <th></th>\n",
              "      <th></th>\n",
              "      <th></th>\n",
              "      <th></th>\n",
              "    </tr>\n",
              "  </thead>\n",
              "  <tbody>\n",
              "    <tr>\n",
              "      <th>1st</th>\n",
              "      <td>0.002278</td>\n",
              "      <td>0.108580</td>\n",
              "      <td>0.002278</td>\n",
              "      <td>0.132878</td>\n",
              "      <td>0.246014</td>\n",
              "    </tr>\n",
              "    <tr>\n",
              "      <th>2nd</th>\n",
              "      <td>0.004556</td>\n",
              "      <td>0.019742</td>\n",
              "      <td>0.005315</td>\n",
              "      <td>0.186029</td>\n",
              "      <td>0.215642</td>\n",
              "    </tr>\n",
              "    <tr>\n",
              "      <th>3rd</th>\n",
              "      <td>0.000000</td>\n",
              "      <td>0.077449</td>\n",
              "      <td>0.085801</td>\n",
              "      <td>0.375095</td>\n",
              "      <td>0.538345</td>\n",
              "    </tr>\n",
              "    <tr>\n",
              "      <th>All</th>\n",
              "      <td>0.006834</td>\n",
              "      <td>0.205771</td>\n",
              "      <td>0.093394</td>\n",
              "      <td>0.694002</td>\n",
              "      <td>1.000000</td>\n",
              "    </tr>\n",
              "  </tbody>\n",
              "</table>\n",
              "</div>"
            ],
            "text/plain": [
              "embarked         B         C         Q         S       All\n",
              "class                                                     \n",
              "1st       0.002278  0.108580  0.002278  0.132878  0.246014\n",
              "2nd       0.004556  0.019742  0.005315  0.186029  0.215642\n",
              "3rd       0.000000  0.077449  0.085801  0.375095  0.538345\n",
              "All       0.006834  0.205771  0.093394  0.694002  1.000000"
            ]
          },
          "execution_count": null,
          "metadata": {},
          "output_type": "execute_result"
        }
      ],
      "source": [
        "# Code here\n",
        "df_titanic[\"type\"] = df_titanic[\"class\"].map({\n",
        "    \"1st\": \"passenger\",\n",
        "    \"2nd\": \"passenger\",\n",
        "    \"3rd\": \"passenger\",\n",
        "    \"victualling crew\": \"crew\",\n",
        "    \"engineering crew\": \"crew\",\n",
        "    \"deck crew\": \"crew\",\n",
        "    \"restaurant staff\": \"crew\"\n",
        "})\n",
        "\n",
        "df_titanic_passenger = df_titanic[df_titanic[\"type\"] == \"passenger\"]\n",
        "df_titanic_passenger\n",
        "\n",
        "cross_tab = pd.crosstab(df_titanic_passenger[\"class\"], df_titanic_passenger[\"embarked\"], normalize = True, margins = True)\n",
        "cross_tab"
      ]
    },
    {
      "cell_type": "markdown",
      "metadata": {
        "id": "3CRaJLSyYm4d"
      },
      "source": [
        "## 2. Using the joint distribution that calculated above, calculate the following:\n",
        "\n",
        "* the conditional distribution of their class given where they embarked\n",
        "* the conditional distribution of where they embarked given their class\n",
        "\n",
        "Use the conditional distributions that you calculate to answer the following quesitons:\n",
        "\n",
        "* What proportion of 3rd class passengers embarked at Southampton?\n",
        "* What proportion of Southampton passengers were in 3rd class?"
      ]
    },
    {
      "cell_type": "code",
      "execution_count": 4,
      "metadata": {
        "colab": {
          "base_uri": "https://localhost:8080/"
        },
        "id": "TfTGidLIv1k0",
        "outputId": "be083f1c-0761-4a72-f0e5-910e899382e0"
      },
      "outputs": [
        {
          "name": "stdout",
          "output_type": "stream",
          "text": [
            "Class Distribution Given Embarked = B\n",
            "class\n",
            "1st    0.333333\n",
            "2nd    0.666667\n",
            "3rd    0.000000\n",
            "Name: B, dtype: float64\n",
            "\n",
            "Class Distribution Given Embarked = C\n",
            "class\n",
            "1st    0.527675\n",
            "2nd    0.095941\n",
            "3rd    0.376384\n",
            "Name: C, dtype: float64\n",
            "\n",
            "Class Distribution Given Embarked = Q\n",
            "class\n",
            "1st    0.024390\n",
            "2nd    0.056911\n",
            "3rd    0.918699\n",
            "Name: Q, dtype: float64\n",
            "\n",
            "Class Distribution Given Embarked = S\n",
            "class\n",
            "1st    0.191466\n",
            "2nd    0.268053\n",
            "3rd    0.540481\n",
            "Name: S, dtype: float64\n"
          ]
        }
      ],
      "source": [
        "# conditional distribution of their class given where they embarked\n",
        "\n",
        "class_given_b = cross_tab.iloc[0:3, 0] / cross_tab.iloc[3, 0]\n",
        "print(f\"Class Distribution Given Embarked = B\")\n",
        "print(class_given_b)\n",
        "print()\n",
        "\n",
        "class_given_c = cross_tab.iloc[0:3, 1] / cross_tab.iloc[3, 1]\n",
        "print(f\"Class Distribution Given Embarked = C\")\n",
        "print(class_given_c)\n",
        "print()\n",
        "\n",
        "class_given_q = cross_tab.iloc[0:3, 2] / cross_tab.iloc[3, 2]\n",
        "print(f\"Class Distribution Given Embarked = Q\")\n",
        "print(class_given_q)\n",
        "print()\n",
        "\n",
        "class_given_s = cross_tab.iloc[0:3, 3] / cross_tab.iloc[3, 3]\n",
        "print(f\"Class Distribution Given Embarked = S\")\n",
        "print(class_given_s)"
      ]
    },
    {
      "cell_type": "code",
      "execution_count": 5,
      "metadata": {
        "colab": {
          "base_uri": "https://localhost:8080/"
        },
        "id": "3-wmuXr1NaWV",
        "outputId": "1b737660-fde2-4e7e-a42b-b5afafbdc3e0"
      },
      "outputs": [
        {
          "name": "stdout",
          "output_type": "stream",
          "text": [
            "Embarked Distribution Given Class = 1st\n",
            "embarked\n",
            "B    0.009259\n",
            "C    0.441358\n",
            "Q    0.009259\n",
            "S    0.540123\n",
            "Name: 1st, dtype: float64\n",
            "\n",
            "Embarked Distribution Given Class = 2nd\n",
            "embarked\n",
            "B    0.021127\n",
            "C    0.091549\n",
            "Q    0.024648\n",
            "S    0.862676\n",
            "Name: 2nd, dtype: float64\n",
            "\n",
            "Embarked Distribution Given Class = 3rd\n",
            "embarked\n",
            "B    0.000000\n",
            "C    0.143865\n",
            "Q    0.159379\n",
            "S    0.696756\n",
            "Name: 3rd, dtype: float64\n"
          ]
        }
      ],
      "source": [
        "# conditional distribution of where they embarked given their class\n",
        "\n",
        "embarked_given_1st = cross_tab.iloc[0, 0:4] / cross_tab.iloc[0, 4]\n",
        "print(f\"Embarked Distribution Given Class = 1st\")\n",
        "print(embarked_given_1st)\n",
        "print()\n",
        "\n",
        "embarked_given_2nd = cross_tab.iloc[1, 0:4] / cross_tab.iloc[1, 4]\n",
        "print(f\"Embarked Distribution Given Class = 2nd\")\n",
        "print(embarked_given_2nd)\n",
        "print()\n",
        "\n",
        "embarked_given_3rd = cross_tab.iloc[2, 0:4] / cross_tab.iloc[2, 4]\n",
        "print(f\"Embarked Distribution Given Class = 3rd\")\n",
        "print(embarked_given_3rd)"
      ]
    },
    {
      "cell_type": "code",
      "execution_count": 6,
      "metadata": {
        "colab": {
          "base_uri": "https://localhost:8080/"
        },
        "id": "6alKOgNvOBxz",
        "outputId": "6f645bde-8a5b-43b3-cc5a-3c170cbbf4f6"
      },
      "outputs": [
        {
          "data": {
            "text/plain": [
              "np.float64(0.696755994358251)"
            ]
          },
          "execution_count": null,
          "metadata": {},
          "output_type": "execute_result"
        }
      ],
      "source": [
        "# What proportion of 3rd class passengers embarked at Southampton?\n",
        "class_3 = cross_tab.iloc[2, 4]\n",
        "class_3_embarked_s = cross_tab.iloc[2, 3]\n",
        "class_3_embarked_s / class_3"
      ]
    },
    {
      "cell_type": "code",
      "execution_count": 7,
      "metadata": {
        "colab": {
          "base_uri": "https://localhost:8080/"
        },
        "id": "R94ELbFsOHf_",
        "outputId": "df3f710c-579a-47e6-b9a4-ac75b61aa0b7"
      },
      "outputs": [
        {
          "data": {
            "text/plain": [
              "np.float64(0.5404814004376367)"
            ]
          },
          "execution_count": null,
          "metadata": {},
          "output_type": "execute_result"
        }
      ],
      "source": [
        "# What proportion of Southampton passengers were in 3rd class?\n",
        "embarked_s = cross_tab.iloc[3, 3]\n",
        "class_3_embarked_s = cross_tab.iloc[2, 3]\n",
        "class_3_embarked_s / embarked_s"
      ]
    },
    {
      "cell_type": "markdown",
      "metadata": {
        "id": "pGUQeeh1ZRfz"
      },
      "source": [
        "## 3. Make a visualization showing the distribution of a passenger's class, given where they embarked.\n",
        "\n",
        "Discuss the pros and cons of using this visualization versus the distributions you calculated before, to answer the previous questions."
      ]
    },
    {
      "cell_type": "code",
      "execution_count": 8,
      "metadata": {
        "colab": {
          "base_uri": "https://localhost:8080/",
          "height": 497
        },
        "id": "PZ18WKJWA-xZ",
        "outputId": "f32d5be3-0b95-4d2f-ed05-b6132e231c96"
      },
      "outputs": [
        {
          "data": {
            "image/png": "[encoded data removed]",
            "text/plain": [
              "<Figure size 640x480 with 1 Axes>"
            ]
          },
          "metadata": {},
          "output_type": "display_data"
        }
      ],
      "source": [
        "# Code here\n",
        "(ggplot(df_titanic_passenger,\n",
        "aes(\n",
        "  x = \"embarked\",\n",
        "  fill = \"class\"\n",
        "))\n",
        "+ geom_bar(position = \"fill\")\n",
        ")"
      ]
    },
    {
      "cell_type": "markdown",
      "metadata": {
        "id": "7LJQVf6xgCwV"
      },
      "source": [
        "The pro is the visualization and visualization helps us see the distribution better. However, the con is that you can't see the detailed exact numbers. You also need two bar plots for when the distribution is class given embarked or embarked given class. Only one crosstab is required, however."
      ]
    }
  ],
  "metadata": {
    "colab": {
      "provenance": []
    },
    "kernelspec": {
      "display_name": "Python 3",
      "name": "python3"
    },
    "language_info": {
      "name": "python"
    }
  },
  "nbformat": 4,
  "nbformat_minor": 0
}
